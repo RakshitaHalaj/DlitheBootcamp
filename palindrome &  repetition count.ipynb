{
 "cells": [
  {
   "cell_type": "markdown",
   "id": "1abc2562-931c-46f0-9d29-5528b643ef97",
   "metadata": {},
   "source": [
    "1. Checking, a number and a string to be a palindrome or not – oops"
   ]
  },
  {
   "cell_type": "code",
   "execution_count": 2,
   "id": "822d1999-ec1f-4855-9ef5-0e0e8b708697",
   "metadata": {},
   "outputs": [
    {
     "name": "stdout",
     "output_type": "stream",
     "text": [
      "True\n",
      "False\n",
      "True\n",
      "False\n"
     ]
    }
   ],
   "source": [
    "\n",
    "class PalindromeChecker:\n",
    "  \"\"\"Checks if a given data (string or number) is a palindrome.\"\"\"\n",
    "\n",
    "  def PalindromeChecker(self, data):\n",
    "    \n",
    "\n",
    "    # Convert the data to a string and remove whitespace for case-insensitive comparison\n",
    "    text = str(data).lower().replace(\" \", \"\")\n",
    "\n",
    "    return text == text[::-1]\n",
    "\n",
    "# Test cases with strings and numbers\n",
    "check = PalindromeChecker()\n",
    "print(check.PalindromeChecker(\"racecar\"))  # True\n",
    "print(check.PalindromeChecker(\"hello\"))    # False\n",
    "print(check.PalindromeChecker(1221))       # True\n",
    "print(check.PalindromeChecker(1234))       # False"
   ]
  },
  {
   "cell_type": "markdown",
   "id": "a039b009-8cf9-4a82-bc13-44a6b20c24ca",
   "metadata": {},
   "source": [
    "2.  List of characters and its repetition count is given, What is the highest count of words that you can generate with/without the meaning having at least 3 minimum letter combined?\r\n",
    "[a,h,f,t,k,l]\r\n",
    "\r\n",
    "[2,4,1,3,6,]"
   ]
  },
  {
   "cell_type": "code",
   "execution_count": 1,
   "id": "4af5fed1-3677-42dd-804c-2012bc9837f3",
   "metadata": {},
   "outputs": [
    {
     "name": "stdout",
     "output_type": "stream",
     "text": [
      "['a', 'a', 'b', 's', 's']\n",
      "['aab', 'aabs', 'aabss', 'aas', 'aass', 'abs', 'abss', 'ass', 'bss']\n"
     ]
    }
   ],
   "source": [
    "char=['a','b','s']\n",
    "\n",
    "freq=[2,1,2]\n",
    "\n",
    "l=[]\n",
    "\n",
    "for c,f in zip(char,freq):\n",
    "    l.extend([c]*f)\n",
    "\n",
    "print(l)\n",
    "\n",
    "def generate_comb(current,remainig,length):\n",
    "    if len(current) >=length:\n",
    "        results.add(''.join(current))\n",
    "    if not remainig:\n",
    "        return\n",
    "    for i in range(len(remainig)):\n",
    "        generate_comb(current+[remainig[i]],remainig[i+1:],length)\n",
    "\n",
    "results=set()\n",
    "min_len=3\n",
    "max_len=len(l)\n",
    "\n",
    "for length in range(min_len,max_len+1):\n",
    "    generate_comb([],l,length)\n",
    "\n",
    "all_comb=sorted(results)\n",
    "print(all_comb)"
   ]
  }
 ],
 "metadata": {
  "kernelspec": {
   "display_name": "Python 3 (ipykernel)",
   "language": "python",
   "name": "python3"
  },
  "language_info": {
   "codemirror_mode": {
    "name": "ipython",
    "version": 3
   },
   "file_extension": ".py",
   "mimetype": "text/x-python",
   "name": "python",
   "nbconvert_exporter": "python",
   "pygments_lexer": "ipython3",
   "version": "3.11.7"
  }
 },
 "nbformat": 4,
 "nbformat_minor": 5
}
