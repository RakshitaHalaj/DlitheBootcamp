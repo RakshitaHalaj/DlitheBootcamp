{
 "cells": [
  {
   "cell_type": "markdown",
   "id": "4811537c-e4c5-41bd-9b11-59a2326f1fad",
   "metadata": {},
   "source": [
    "Given a string s representing a valid expression, implement a basic calculator to evaluate it, and return the result of the evaluation.\r\n",
    "\r\n",
    "Note: You are not allowed to use any built-in function which evaluates strings as mathematical expressions, such as eval().\r\n",
    "\r\n",
    " \r\n",
    "\r\n",
    "Example 1:\r\n",
    "\r\n",
    "Input: s = \"1 + 1\"\r\n",
    "Output: 2\r\n",
    "Example 2:\r\n",
    "\r\n",
    "Input: s = \" 2-1 + 2 \"\r\n",
    "Output: 3\r\n",
    "Example 3:\r\n",
    "\r\n",
    "Input: s = \"(1+(4+5+2)-3)+(6+8)\"\r\n",
    "Output: 23\r\n",
    " \r\n",
    "\r\n",
    "Constraints:\r\n",
    "\r\n",
    "1 <= s.length <= 3 * 105\r\n",
    "s consists of digits, '+', '-', '(', ')', and ' '.\r\n",
    "s represents a valid expression.\r\n",
    "'+' is not used as a unary operation (i.e., \"+1\" and \"+(2 + 3)\" is invalid).\r\n",
    "'-' could be used as a unary operation (i.e., \"-1\" and \"-(2 + 3)\" is valid).\r\n",
    "There will be no two consecutive operators in the input.\r\n",
    "Every number and running calculation will fit in a signed 32-bit integer."
   ]
  },
  {
   "cell_type": "code",
   "execution_count": 2,
   "id": "8d17ce24-eae8-4503-a2b1-9eedd41c6f53",
   "metadata": {},
   "outputs": [],
   "source": [
    "class Solution:\n",
    "    def calculate(self, s: str) -> int:\n",
    "        res, num, stack, sign = 0, 0, [], '+'\n",
    "        \n",
    "        for i in range(len(s)):\n",
    "            if '0'<=s[i]<='9':\n",
    "                num = num*10 + ord(s[i]) - ord('0')\n",
    "            if s[i] in '+-)' or i == len(s)-1:\n",
    "                if sign == '+':\n",
    "                    res += num\n",
    "                else:\n",
    "                    res += -num\n",
    "                num = 0\n",
    "                sign = s[i]\n",
    "            if s[i] == '(':\n",
    "                stack.append(res)\n",
    "                stack.append(sign)\n",
    "                sign = '+'\n",
    "                res = 0\n",
    "            elif s[i] == ')':\n",
    "                sign = stack.pop()\n",
    "                res1 = stack.pop()\n",
    "                res = res+res1 if sign == '+' else res1-res\n",
    "                num = 0\n",
    "                sign = '+'\n",
    "            # print(s[i],'---',num,'---',res, stack)\n",
    "        return res"
   ]
  }
 ],
 "metadata": {
  "kernelspec": {
   "display_name": "Python 3 (ipykernel)",
   "language": "python",
   "name": "python3"
  },
  "language_info": {
   "codemirror_mode": {
    "name": "ipython",
    "version": 3
   },
   "file_extension": ".py",
   "mimetype": "text/x-python",
   "name": "python",
   "nbconvert_exporter": "python",
   "pygments_lexer": "ipython3",
   "version": "3.11.7"
  }
 },
 "nbformat": 4,
 "nbformat_minor": 5
}
