{
 "cells": [
  {
   "cell_type": "code",
   "execution_count": 4,
   "id": "f2472544-2087-4a5f-a1df-8ca4c2ac7e4d",
   "metadata": {},
   "outputs": [
    {
     "name": "stdout",
     "output_type": "stream",
     "text": [
      "hiappended textappended textappended textappended text\n"
     ]
    }
   ],
   "source": [
    "#append method\n",
    "with open(\"file1.txt\", \"a\") as myfile:\n",
    "    myfile.write(\"appended text\")\n",
    "file=open('file1.txt','r')\n",
    "print(file.read()) "
   ]
  },
  {
   "cell_type": "code",
   "execution_count": 8,
   "id": "c824169e-1fc1-4720-8381-31a58de519b4",
   "metadata": {},
   "outputs": [
    {
     "name": "stdout",
     "output_type": "stream",
     "text": [
      "This text will overwrite any existing content in the file.\n",
      "\n"
     ]
    }
   ],
   "source": [
    "#writeonly\n",
    "# Write text to a file (this will overwrite existing content)\n",
    "with open('file1.txt', 'w') as file:\n",
    "    file.write('This text will overwrite any existing content in the file.\\n')\n",
    "file=open('file1.txt','r')\n",
    "print(file.read()) "
   ]
  },
  {
   "cell_type": "code",
   "execution_count": 11,
   "id": "587db957-2429-4893-b082-15883137379d",
   "metadata": {},
   "outputs": [
    {
     "ename": "NameError",
     "evalue": "name 'File_path' is not defined",
     "output_type": "error",
     "traceback": [
      "\u001b[1;31m---------------------------------------------------------------------------\u001b[0m",
      "\u001b[1;31mNameError\u001b[0m                                 Traceback (most recent call last)",
      "Cell \u001b[1;32mIn[11], line 7\u001b[0m\n\u001b[0;32m      4\u001b[0m file_path \u001b[38;5;241m=\u001b[39m \u001b[38;5;124m'\u001b[39m\u001b[38;5;124mfile1.txt\u001b[39m\u001b[38;5;124m'\u001b[39m\n\u001b[0;32m      6\u001b[0m \u001b[38;5;66;03m# Check if the file exists before attempting to read\u001b[39;00m\n\u001b[1;32m----> 7\u001b[0m \u001b[38;5;28;01mif\u001b[39;00m os\u001b[38;5;241m.\u001b[39mpath\u001b[38;5;241m.\u001b[39mexists(File_path):\n\u001b[0;32m      8\u001b[0m     \u001b[38;5;28;01mwith\u001b[39;00m \u001b[38;5;28mopen\u001b[39m(File_path, \u001b[38;5;124m'\u001b[39m\u001b[38;5;124mr\u001b[39m\u001b[38;5;124m'\u001b[39m) \u001b[38;5;28;01mas\u001b[39;00m file:\n\u001b[0;32m      9\u001b[0m         content \u001b[38;5;241m=\u001b[39m file\u001b[38;5;241m.\u001b[39mread()\n",
      "\u001b[1;31mNameError\u001b[0m: name 'File_path' is not defined"
     ]
    }
   ],
   "source": [
    "#readonly\n",
    "import os\n",
    "\n",
    "file_path = 'file1.txt'\n",
    "\n",
    "# Check if the file exists before attempting to read\n",
    "if os.path.exists(File_path):\n",
    "    with open(File_path, 'r') as file:\n",
    "        content = file.read()\n",
    "        print(content)\n",
    "else:\n",
    "    print(\"The file does not exist.\")\n"
   ]
  }
 ],
 "metadata": {
  "kernelspec": {
   "display_name": "Python 3 (ipykernel)",
   "language": "python",
   "name": "python3"
  },
  "language_info": {
   "codemirror_mode": {
    "name": "ipython",
    "version": 3
   },
   "file_extension": ".py",
   "mimetype": "text/x-python",
   "name": "python",
   "nbconvert_exporter": "python",
   "pygments_lexer": "ipython3",
   "version": "3.11.7"
  }
 },
 "nbformat": 4,
 "nbformat_minor": 5
}
